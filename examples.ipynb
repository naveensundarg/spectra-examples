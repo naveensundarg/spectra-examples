{
 "cells": [
  {
   "cell_type": "code",
   "execution_count": 1,
   "id": "a972ce14",
   "metadata": {},
   "outputs": [],
   "source": [
    "import os\n",
    "os.environ['EPROVER_HOME'] = '/workspaces/spectra-examples/eprover/'"
   ]
  },
  {
   "cell_type": "code",
   "execution_count": 2,
   "id": "31e4bf18-ec8c-4d25-b365-07c550161464",
   "metadata": {
    "ExecuteTime": {
     "end_time": "2025-09-17T02:15:02.791709Z",
     "start_time": "2025-09-17T02:15:02.289998Z"
    }
   },
   "outputs": [],
   "source": [
    "import shadowprover\n",
    "from shadowprover.syntax import *\n",
    "from shadowprover.syntax.reader import r\n",
    "from shadowprover.experimental.sst_prover import SST_Prover\n"
   ]
  },
  {
   "cell_type": "code",
   "execution_count": 3,
   "id": "be6ded8c-5a9a-4460-810c-8861ce77a15a",
   "metadata": {},
   "outputs": [],
   "source": [
    "sst_prover = SST_Prover()\n"
   ]
  },
  {
   "cell_type": "code",
   "execution_count": 4,
   "id": "12c56a7d-dcfd-4ebc-9f7e-bfd794678786",
   "metadata": {},
   "outputs": [
    {
     "data": {
      "text/plain": [
       "{'proof_found': True, 'answers': None}"
      ]
     },
     "execution_count": 4,
     "metadata": {},
     "output_type": "execute_result"
    }
   ],
   "source": [
    "sst_prover.prove([\"(if  P Q)\",\n",
    "                  \"P\"],\n",
    "              \"Q\")"
   ]
  },
  {
   "cell_type": "code",
   "execution_count": 5,
   "id": "ea87a029-b7ba-4712-8f9c-99199611a572",
   "metadata": {},
   "outputs": [
    {
     "data": {
      "text/plain": [
       "{'proof_found': True, 'answers': None}"
      ]
     },
     "execution_count": 5,
     "metadata": {},
     "output_type": "execute_result"
    }
   ],
   "source": [
    "sst_prover.prove([\n",
    "  \"(forall agent (if (Believes! agent t (linked a c) )(Believes! agent t (Philosopher plato))))\",\n",
    "  \"(forall agent (Believes agent t (forall [x y z] (if (and (linked x y) (linked y z)) (linked x z)))))\",\n",
    "  \"(forall x (Believes! x t (= plato platon)))\",\n",
    "  \"(forall (x y) (if  (Believes! x t (Philosopher y))  (Believes! x t (Wise y))))\",\n",
    "  \"(Believes! jack t (linked a b))\",\n",
    "  \"(Believes! jack t (linked a c))\"\n",
    "\n",
    "], \"(Believes! jack t (Wise platon))\")"
   ]
  },
  {
   "cell_type": "code",
   "execution_count": 6,
   "id": "31936d98-c5d4-4568-a2b4-4231aee49ca1",
   "metadata": {},
   "outputs": [
    {
     "data": {
      "text/plain": [
       "{'proof_found': True, 'answers': [{x: aristocles}, {x: plato}]}"
      ]
     },
     "execution_count": 6,
     "metadata": {},
     "output_type": "execute_result"
    }
   ],
   "source": [
    "sst_prover.prove([\n",
    "  \"(forall agent (if (Believes! agent t (linked a c) )(Believes! agent t (Philosopher plato))))\",\n",
    "  \"(forall agent (Believes agent t (forall [x y z] (if (and (linked x y) (linked y z)) (linked x z)))))\",\n",
    "  \"(forall x (Believes! x t (= plato aristocles)))\",\n",
    "  \"(forall (x y) (if  (Believes! x t (Philosopher y))  (Believes! x t (Wise y))))\",\n",
    "  \"(Believes! jack t (linked a b))\",\n",
    "  \"(Believes! jack t (linked a c))\"\n",
    "\n",
    "],\n",
    "                 \"(exists x (Believes! jack t (Wise x)))\",\n",
    "                 find_answer=True\n",
    ")"
   ]
  }
 ],
 "metadata": {
  "kernelspec": {
   "display_name": "spectra",
   "language": "python",
   "name": "python3"
  },
  "language_info": {
   "codemirror_mode": {
    "name": "ipython",
    "version": 3
   },
   "file_extension": ".py",
   "mimetype": "text/x-python",
   "name": "python",
   "nbconvert_exporter": "python",
   "pygments_lexer": "ipython3",
   "version": "3.11.13"
  }
 },
 "nbformat": 4,
 "nbformat_minor": 5
}
